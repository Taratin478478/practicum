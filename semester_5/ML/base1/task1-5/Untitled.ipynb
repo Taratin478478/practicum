{
 "cells": [
  {
   "cell_type": "code",
   "execution_count": 46,
   "id": "a630a83d-9d00-467e-9aca-a8853d9f1209",
   "metadata": {},
   "outputs": [],
   "source": [
    "from typing import List\n",
    "\n",
    "\n",
    "def longest_common_prefix(strs_input: List[str]) -> str:\n",
    "    if len(strs_input) == 0:\n",
    "        return \"\"\n",
    "    ans = \"\"\n",
    "    for i in range(min(len(x.lstrip()) for x in strs_input)):\n",
    "        for x in strs_input:\n",
    "            if (x[i] != strs_input[0][i]):\n",
    "                break\n",
    "        if (x[i] != strs_input[0][i]):\n",
    "            break\n",
    "        else:\n",
    "            ans += x[i]\n",
    "    return ans\n",
    "\n",
    "def main():\n",
    "    print(longest_common_prefix([\"flo\",\"flow\",\"flight\"]))"
   ]
  },
  {
   "cell_type": "code",
   "execution_count": null,
   "id": "abd760e8-9b03-4a61-bb47-8524bda4f169",
   "metadata": {},
   "outputs": [],
   "source": []
  },
  {
   "cell_type": "code",
   "execution_count": null,
   "id": "9cccd83f-400d-4632-8988-addd11fa2eb2",
   "metadata": {},
   "outputs": [],
   "source": []
  },
  {
   "cell_type": "code",
   "execution_count": null,
   "id": "d36aa304-ad4e-46ae-9cb4-33b45b6daad6",
   "metadata": {},
   "outputs": [],
   "source": []
  },
  {
   "cell_type": "code",
   "execution_count": null,
   "id": "c6129914-b6ca-4fd6-8095-0e42dc11133e",
   "metadata": {},
   "outputs": [],
   "source": []
  }
 ],
 "metadata": {
  "kernelspec": {
   "display_name": "Python 3 (ipykernel)",
   "language": "python",
   "name": "python3"
  },
  "language_info": {
   "codemirror_mode": {
    "name": "ipython",
    "version": 3
   },
   "file_extension": ".py",
   "mimetype": "text/x-python",
   "name": "python",
   "nbconvert_exporter": "python",
   "pygments_lexer": "ipython3",
   "version": "3.10.15"
  }
 },
 "nbformat": 4,
 "nbformat_minor": 5
}
